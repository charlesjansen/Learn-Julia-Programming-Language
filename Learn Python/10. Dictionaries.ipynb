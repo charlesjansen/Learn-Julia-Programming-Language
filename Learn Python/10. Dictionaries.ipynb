{
 "cells": [
  {
   "cell_type": "markdown",
   "metadata": {},
   "source": [
    "## Dictionaries\n",
    "\n",
    "Dictionaries are mutables but not ordered. \n",
    "\n",
    "There is a key/name and a value/definition like in a real dictionary:\n",
    "\"bird\" : \"all the definition of what a bird is: animal with feathers, wings, love to eat worms, etc. \"\n",
    "(name : definition/value)\n",
    "\n",
    "Another good example is a contacts list.\n",
    "Kiki's Delivery Service : 555-4455\n",
    "Sephiroth               : 111-1111\n",
    "Sasuke Uchiha           : 101-0101"
   ]
  },
  {
   "cell_type": "code",
   "execution_count": 26,
   "metadata": {},
   "outputs": [
    {
     "data": {
      "text/plain": [
       "Dict{String,String} with 3 entries:\n",
       "  \"Kiki's Delivery Service\" => \"555-4455\"\n",
       "  \"Sephiroth\"               => \"111-1111\"\n",
       "  \"Sasuke Uchiha\"           => \"101-0101\""
      ]
     },
     "execution_count": 26,
     "metadata": {},
     "output_type": "execute_result"
    }
   ],
   "source": [
    "myphonebook = Dict(\"Kiki's Delivery Service\" => \"555-4455\",\n",
    "    \"Sephiroth\" => \"111-1111\",\n",
    "    \"Sasuke Uchiha\" => \"101-0101\")"
   ]
  },
  {
   "cell_type": "code",
   "execution_count": 27,
   "metadata": {},
   "outputs": [
    {
     "data": {
      "text/plain": [
       "\"111-1111\""
      ]
     },
     "execution_count": 27,
     "metadata": {},
     "output_type": "execute_result"
    }
   ],
   "source": [
    "myphonebook[\"Sephiroth\"]"
   ]
  },
  {
   "cell_type": "markdown",
   "metadata": {},
   "source": [
    "Add new data to the dictionary:"
   ]
  },
  {
   "cell_type": "code",
   "execution_count": 28,
   "metadata": {},
   "outputs": [
    {
     "data": {
      "text/plain": [
       "\"555-PIRA\""
      ]
     },
     "execution_count": 28,
     "metadata": {},
     "output_type": "execute_result"
    }
   ],
   "source": [
    "myphonebook[\"Monkey D. Luffy\"] = \"555-PIRA\""
   ]
  },
  {
   "cell_type": "code",
   "execution_count": 30,
   "metadata": {},
   "outputs": [
    {
     "data": {
      "text/plain": [
       "Dict{String,String} with 4 entries:\n",
       "  \"Kiki's Delivery Service\" => \"555-4455\"\n",
       "  \"Sephiroth\"               => \"111-1111\"\n",
       "  \"Monkey D. Luffy\"         => \"555-PIRA\"\n",
       "  \"Sasuke Uchiha\"           => \"101-0101\""
      ]
     },
     "execution_count": 30,
     "metadata": {},
     "output_type": "execute_result"
    }
   ],
   "source": [
    "myphonebook"
   ]
  },
  {
   "cell_type": "code",
   "execution_count": null,
   "metadata": {},
   "outputs": [],
   "source": [
    "myphonebook[\"Edward Elric\"] = 1112345"
   ]
  },
  {
   "cell_type": "code",
   "execution_count": 33,
   "metadata": {},
   "outputs": [
    {
     "data": {
      "text/plain": [
       "Dict{String,Any} with 4 entries:\n",
       "  \"Kiki's Delivery Service\" => \"555-4455\"\n",
       "  \"Sephiroth\"               => \"111-1111\"\n",
       "  \"Edward Elric\"            => 1112345\n",
       "  \"Sasuke Uchiha\"           => \"101-0101\""
      ]
     },
     "execution_count": 33,
     "metadata": {},
     "output_type": "execute_result"
    }
   ],
   "source": [
    "multiTypePhoneBook = Dict(\"Kiki's Delivery Service\" => \"555-4455\",\n",
    "    \"Sephiroth\" => \"111-1111\",\n",
    "    \"Sasuke Uchiha\" => \"101-0101\",\n",
    "    \"Edward Elric\"  => 1112345)\n",
    "#give String, ANY"
   ]
  },
  {
   "cell_type": "code",
   "execution_count": 34,
   "metadata": {},
   "outputs": [
    {
     "data": {
      "text/plain": [
       "\"111-1111\""
      ]
     },
     "execution_count": 34,
     "metadata": {},
     "output_type": "execute_result"
    }
   ],
   "source": [
    "pop!(myphonebook, \"Sephiroth\") #Removing Sephiroth"
   ]
  },
  {
   "cell_type": "code",
   "execution_count": 35,
   "metadata": {},
   "outputs": [
    {
     "data": {
      "text/plain": [
       "Dict{String,String} with 3 entries:\n",
       "  \"Kiki's Delivery Service\" => \"555-4455\"\n",
       "  \"Monkey D. Luffy\"         => \"555-PIRA\"\n",
       "  \"Sasuke Uchiha\"           => \"101-0101\""
      ]
     },
     "execution_count": 35,
     "metadata": {},
     "output_type": "execute_result"
    }
   ],
   "source": [
    "myphonebook"
   ]
  },
  {
   "cell_type": "code",
   "execution_count": null,
   "metadata": {},
   "outputs": [],
   "source": [
    "myphonebook[1] #when i said dictionary where not ordered :)"
   ]
  },
  {
   "cell_type": "code",
   "execution_count": null,
   "metadata": {},
   "outputs": [],
   "source": [
    "myNewDict = {\"Sephiroth\" => \"111-1111\"} #Julia isn't always like Python ;)"
   ]
  },
  {
   "cell_type": "code",
   "execution_count": null,
   "metadata": {},
   "outputs": [],
   "source": []
  }
 ],
 "metadata": {
  "kernelspec": {
   "display_name": "Julia 1.5.2",
   "language": "julia",
   "name": "julia-1.5"
  },
  "language_info": {
   "file_extension": ".jl",
   "mimetype": "application/julia",
   "name": "julia",
   "version": "1.5.2"
  }
 },
 "nbformat": 4,
 "nbformat_minor": 4
}
