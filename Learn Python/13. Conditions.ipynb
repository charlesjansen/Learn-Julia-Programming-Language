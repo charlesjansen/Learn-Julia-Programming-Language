{
 "cells": [
  {
   "cell_type": "markdown",
   "metadata": {},
   "source": [
    "### Conditionals\n",
    "\n",
    "The indentation is very important in Python!"
   ]
  },
  {
   "cell_type": "code",
   "execution_count": 11,
   "metadata": {},
   "outputs": [],
   "source": [
    "age = 15"
   ]
  },
  {
   "cell_type": "code",
   "execution_count": 12,
   "metadata": {},
   "outputs": [
    {
     "name": "stdout",
     "output_type": "stream",
     "text": [
      "you are not old enough to drive a car in France yet\n"
     ]
    }
   ],
   "source": [
    "if age >= 18: #colon!\n",
    "    print(\"you are old enough to drive a car in France\")\n",
    "else:\n",
    "    print(\"you are not old enough to drive a car in France yet\")\n",
    "#no need for a \"end\" statement"
   ]
  },
  {
   "cell_type": "code",
   "execution_count": 15,
   "metadata": {},
   "outputs": [
    {
     "name": "stdout",
     "output_type": "stream",
     "text": [
      "the road is yours! in most countries!\n"
     ]
    }
   ],
   "source": [
    "license = True\n",
    "age = 21\n",
    "\n",
    "if age >= 18 and license == True:\n",
    "    print(\"the road is yours! in most countries!\")\n",
    "elif age < 18:\n",
    "    print(\"too young still kiddo, learn programming for now!\")\n",
    "elif license != True:\n",
    "    print(\"you need to pass the license first!\")\n",
    "else:\n",
    "    print(\"nobody though of your case!\")"
   ]
  },
  {
   "cell_type": "code",
   "execution_count": 16,
   "metadata": {},
   "outputs": [
    {
     "name": "stdout",
     "output_type": "stream",
     "text": [
      "yeah, this is blue\n",
      "yeah, this is blue\n"
     ]
    }
   ],
   "source": [
    "color = \"blue\"\n",
    "\n",
    "if color == \"blue\":\n",
    "    print(\"yeah, this is blue\")\n",
    "if color == \"red\":\n",
    "    print(\"yeah, this is red\")\n",
    "    \n",
    "if color == \"blue\":\n",
    "    print(\"yeah, this is blue\")\n",
    "elif color == \"red\":\n",
    "    print(\"yeah, this is red\")"
   ]
  },
  {
   "cell_type": "markdown",
   "metadata": {},
   "source": [
    "### Exercises\n",
    "Write a conditional statement that prints a number if the number is even and the string \"odd\" if the number is odd."
   ]
  }
 ],
 "metadata": {
  "kernelspec": {
   "display_name": "Python 3",
   "language": "python",
   "name": "python3"
  },
  "language_info": {
   "codemirror_mode": {
    "name": "ipython",
    "version": 3
   },
   "file_extension": ".py",
   "mimetype": "text/x-python",
   "name": "python",
   "nbconvert_exporter": "python",
   "pygments_lexer": "ipython3",
   "version": "3.7.8"
  }
 },
 "nbformat": 4,
 "nbformat_minor": 4
}
