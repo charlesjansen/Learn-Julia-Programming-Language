{
 "cells": [
  {
   "cell_type": "markdown",
   "metadata": {},
   "source": [
    "# while Loop"
   ]
  },
  {
   "cell_type": "code",
   "execution_count": null,
   "metadata": {},
   "outputs": [],
   "source": [
    "counter = 0 # while need a counter\n",
    "while counter < 10:\n",
    "    counter += 1\n",
    "    print(counter)\n",
    "print(\"counter is \", counter)"
   ]
  },
  {
   "cell_type": "code",
   "execution_count": null,
   "metadata": {},
   "outputs": [],
   "source": [
    "counter = 0 # while need a counter\n",
    "while counter < 10:\n",
    "    counter += 1\n",
    "    if counter == 2:\n",
    "        continue\n",
    "    elif counter == 4:\n",
    "        break\n",
    "    print(counter)\n",
    "print(\"counter is \", counter)"
   ]
  },
  {
   "cell_type": "code",
   "execution_count": null,
   "metadata": {},
   "outputs": [],
   "source": [
    "myfriends = [\"Ted\", \"Robyn\", \"Barney\", \"Lily\", \"Marshall\"]\n",
    "\n",
    "i = 0 #index starts at 0\n",
    "while i <= len(myfriends)-1:  #-1 because, again, the index starts at 0\n",
    "    friend = myfriends[i]\n",
    "    print(f\"Hi {friend}, it's great to see you!\")\n",
    "    i += 1"
   ]
  },
  {
   "cell_type": "markdown",
   "metadata": {},
   "source": [
    "### Exercises\n",
    "\n",
    "Loop over integers between 1 and 100 and print their squares."
   ]
  },
  {
   "cell_type": "code",
   "execution_count": null,
   "metadata": {},
   "outputs": [],
   "source": []
  }
 ],
 "metadata": {
  "kernelspec": {
   "display_name": "Python 3",
   "language": "python",
   "name": "python3"
  },
  "language_info": {
   "codemirror_mode": {
    "name": "ipython",
    "version": 3
   },
   "file_extension": ".py",
   "mimetype": "text/x-python",
   "name": "python",
   "nbconvert_exporter": "python",
   "pygments_lexer": "ipython3",
   "version": "3.7.8"
  }
 },
 "nbformat": 4,
 "nbformat_minor": 4
}
