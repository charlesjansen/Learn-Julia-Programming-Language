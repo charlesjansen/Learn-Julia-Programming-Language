{
 "cells": [
  {
   "cell_type": "markdown",
   "metadata": {},
   "source": [
    "### Conditionals\n",
    "\n",
    "The indentation is recommended but not mandatory in Julia"
   ]
  },
  {
   "cell_type": "code",
   "execution_count": null,
   "metadata": {},
   "outputs": [],
   "source": [
    "age = 15"
   ]
  },
  {
   "cell_type": "code",
   "execution_count": 9,
   "metadata": {},
   "outputs": [
    {
     "name": "stdout",
     "output_type": "stream",
     "text": [
      "you are old enough to drive a car in France"
     ]
    }
   ],
   "source": [
    "if age >= 18 \n",
    "#print(\"you are old enough to drive a car in France\")\n",
    "    print(\"you are old enough to drive a car in France\")\n",
    "else\n",
    "    print(\"you are not old enough to drive a car in France yet\")\n",
    "end"
   ]
  },
  {
   "cell_type": "code",
   "execution_count": null,
   "metadata": {},
   "outputs": [],
   "source": [
    "license = true\n",
    "age = 21\n",
    "\n",
    "if age >= 18 && license == true\n",
    "    println(\"the road is yours! in most countries!\")\n",
    "elseif age < 18\n",
    "    println(\"too young still kiddo, learn programming for now!\")\n",
    "elseif license != true\n",
    "    println(\"you need to pass the license first!\")\n",
    "else\n",
    "    println(\"nobody though of your case!\")\n",
    "end"
   ]
  },
  {
   "cell_type": "code",
   "execution_count": null,
   "metadata": {},
   "outputs": [],
   "source": [
    "color = \"blue\"\n",
    "\n",
    "if color == \"blue\"\n",
    "    println(\"yeah, this is blue\")\n",
    "end\n",
    "if color == \"red\"\n",
    "    println(\"yeah, this is red\")\n",
    "end \n",
    "    \n",
    "if color == \"blue\"\n",
    "    println(\"yeah, this is blue\")\n",
    "elseif color == \"red\"\n",
    "    println(\"yeah, this is red\")\n",
    "end"
   ]
  },
  {
   "cell_type": "markdown",
   "metadata": {},
   "source": [
    "#### with ternary operators\n",
    "\n",
    "```julia\n",
    "a ? b : c\n",
    "```\n",
    "\n",
    "which equates to \n",
    "\n",
    "```julia\n",
    "if a\n",
    "    b\n",
    "else\n",
    "    c\n",
    "end\n",
    "```"
   ]
  },
  {
   "cell_type": "code",
   "execution_count": null,
   "metadata": {},
   "outputs": [],
   "source": [
    "x= 1\n",
    "y= 2\n",
    "\n",
    "(x > y) ? x : y"
   ]
  },
  {
   "cell_type": "code",
   "execution_count": null,
   "metadata": {},
   "outputs": [],
   "source": [
    "x= 1\n",
    "y= 2\n",
    "\n",
    "(x > y) ? \"True, hence first answer prevail\" : \"False, hence second answer prevail\""
   ]
  },
  {
   "cell_type": "markdown",
   "metadata": {},
   "source": [
    "### Exercises\n",
    "Write a conditional statement that prints a number if the number is even and the string \"odd\" if the number is odd."
   ]
  }
 ],
 "metadata": {
  "kernelspec": {
   "display_name": "Julia 1.5.2",
   "language": "julia",
   "name": "julia-1.5"
  },
  "language_info": {
   "file_extension": ".jl",
   "mimetype": "application/julia",
   "name": "julia",
   "version": "1.5.2"
  }
 },
 "nbformat": 4,
 "nbformat_minor": 4
}
